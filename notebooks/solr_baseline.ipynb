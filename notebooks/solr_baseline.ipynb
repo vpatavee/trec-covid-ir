{
 "cells": [
  {
   "cell_type": "markdown",
   "metadata": {},
   "source": [
    "# Solr Baseline\n",
    "\n",
    "The easiest way to run ad hoc Solr is to use Docker. Make sure you have Docker installed and do following:\n",
    "\n",
    "```\n",
    "docker pull solr\n",
    "docker run -d -p 8983:8983 -t solr\n",
    "docker exec -it solr /bin/bash\n",
    "bin/solr create -c cord_19_2020_06_19_abstract\n",
    "\n",
    "```\n",
    "\n",
    "Unlike Anserini where we use pre-built index. Here we have to index it by ourselves. Make sure you already downloaded the CORD-19 dataset from [here](https://ai2-semanticscholar-cord-19.s3-us-west-2.amazonaws.com/historical_releases.html), use 2020-06-19 version.\n",
    "\n"
   ]
  },
  {
   "cell_type": "code",
   "execution_count": 1,
   "metadata": {},
   "outputs": [],
   "source": [
    "# Edit this variable to your path to CORD-19\n",
    "\n",
    "PATH_TO_CORD_19_DATA = \"../../CORD-19/2020-06-19/\"\n",
    "\n",
    "import pysolr\n",
    "import json\n",
    "from xml.etree import ElementTree\n",
    "import os\n",
    "import csv"
   ]
  },
  {
   "cell_type": "code",
   "execution_count": 3,
   "metadata": {},
   "outputs": [
    {
     "name": "stdout",
     "output_type": "stream",
     "text": [
      "{\n",
      "  \"responseHeader\":{\n",
      "    \"zkConnected\":null,\n",
      "    \"status\":0,\n",
      "    \"QTime\":0,\n",
      "    \"params\":{\n",
      "      \"q\":\"{!lucene}*:*\",\n",
      "      \"distrib\":\"false\",\n",
      "      \"df\":\"_text_\",\n",
      "      \"rows\":\"10\",\n",
      "      \"echoParams\":\"all\"}},\n",
      "  \"status\":\"OK\"}\n",
      "\n"
     ]
    }
   ],
   "source": [
    "solr = pysolr.Solr('http://0.0.0.0:8983/solr/cord_19_2020_06_19_abstract' , timeout=10, always_commit=True )\n",
    "\n",
    "# test connection to Solr\n",
    "print(solr.ping())"
   ]
  },
  {
   "cell_type": "code",
   "execution_count": 12,
   "metadata": {},
   "outputs": [],
   "source": [
    "# get abstract from dataset\n",
    "\n",
    "def get_abstract(path):\n",
    "    abstracts = dict()\n",
    "    with open(path + \"metadata.csv\") as f_in:\n",
    "        reader = csv.DictReader(f_in)\n",
    "        for row in reader:\n",
    "            cord_uid = row['cord_uid']\n",
    "            abstract = row['abstract']\n",
    "            abstracts[cord_uid] = abstract\n",
    "            \n",
    "    return abstracts\n",
    "\n",
    "\n",
    "abstracts_dict = get_abstract(PATH_TO_CORD_19_DATA)"
   ]
  },
  {
   "cell_type": "code",
   "execution_count": 18,
   "metadata": {},
   "outputs": [],
   "source": [
    "# build index\n",
    "\n",
    "def index_solr(data_dict, solr):\n",
    "\n",
    "    solr_payloads = list()\n",
    "    for uid, data in data_dict.items():\n",
    "        solr_payload = {\n",
    "            \"id\": uid,\n",
    "            \"text\": data,\n",
    "        }\n",
    "            \n",
    "        solr_payloads.append(solr_payload)\n",
    "        if len(solr_payloads) == 1000:\n",
    "            solr.add(solr_payloads)\n",
    "            solr_payloads = list()\n",
    "\n",
    "\n",
    "index_solr(abstracts_dict, solr)"
   ]
  },
  {
   "cell_type": "code",
   "execution_count": 14,
   "metadata": {},
   "outputs": [],
   "source": [
    "# get query list\n",
    "\n",
    "def read_topics(path_to_topic):\n",
    "    tree = ElementTree.parse(path_to_topic)\n",
    "    topics = list()\n",
    "    for topic in tree.getroot():\n",
    "        d = dict()\n",
    "        d[\"number\"] = topic.attrib[\"number\"]\n",
    "        for field in topic:\n",
    "            d[field.tag] = field.text\n",
    "        topics.append(d)\n",
    "\n",
    "    return topics\n",
    "\n",
    "topics = read_topics(\"../tmp/topics-rnd4.xml\")"
   ]
  },
  {
   "cell_type": "code",
   "execution_count": 22,
   "metadata": {},
   "outputs": [
    {
     "name": "stdout",
     "output_type": "stream",
     "text": [
      "query text:coronavirus origin\n",
      "results {'id': '5tb29n9s', 'score': 1.3778645}\n",
      "{'id': 'wbtaoo0o', 'score': 1.3755488}\n",
      "{'id': 'lajzpk2c', 'score': 1.3659077}\n",
      "{'id': 'e53w0ext', 'score': 1.3659077}\n",
      "{'id': 'hix57xwa', 'score': 1.3620061}\n",
      "{'id': 'r2w5csll', 'score': 1.3617227}\n",
      "{'id': 'azir1gvm', 'score': 1.3606712}\n",
      "{'id': 'x6bryq9d', 'score': 1.3510695}\n",
      "{'id': 'uc0vp5pr', 'score': 1.3485974}\n",
      "{'id': 'xhf8yg6o', 'score': 1.3483565}\n"
     ]
    }
   ],
   "source": [
    "# test query\n",
    "\n",
    "query = \"text:\" + topics[0][\"query\"]\n",
    "print(\"query\", query)\n",
    "\n",
    "solr_query_param = {\n",
    "    \"fl\": \"id,score\",\n",
    "    \"rows\": 10\n",
    "}\n",
    "results = solr.search(query, **solr_query_param).docs\n",
    "print(\"results\", \"\\n\".join(str(e) for e in results))"
   ]
  },
  {
   "cell_type": "markdown",
   "metadata": {},
   "source": [
    "# Run Solr on abstract"
   ]
  },
  {
   "cell_type": "code",
   "execution_count": 29,
   "metadata": {},
   "outputs": [],
   "source": [
    "lines = list()\n",
    "template = \"{} Q0 {} {} {} solr_baseline_abstract\"\n",
    "\n",
    "for topic_id, query in enumerate(topics):\n",
    "    solr_query = \"text:\" + query[\"query\"]\n",
    "    \n",
    "    solr_query_param = {\n",
    "        \"fl\": \"id,score\",\n",
    "        \"rows\": 1000\n",
    "    }\n",
    "    \n",
    "    results = solr.search(solr_query, **solr_query_param).docs\n",
    "    \n",
    "    for j, hit in enumerate(results):\n",
    "        lines.append(template.format(topic_id + 1, hit[\"id\"], j +1, hit[\"score\"]))\n",
    "        "
   ]
  },
  {
   "cell_type": "code",
   "execution_count": 34,
   "metadata": {},
   "outputs": [
    {
     "name": "stdout",
     "output_type": "stream",
     "text": [
      "1 Q0 5tb29n9s 1 1.3778645 solr_baseline_abstract\n"
     ]
    }
   ],
   "source": [
    "# see example\n",
    "print(lines[0])"
   ]
  },
  {
   "cell_type": "code",
   "execution_count": 35,
   "metadata": {},
   "outputs": [],
   "source": [
    "with open(\"../tmp/baseline.txt\", 'w') as f:\n",
    "    f.write(\"\\n\".join(lines))"
   ]
  },
  {
   "cell_type": "markdown",
   "metadata": {},
   "source": [
    "# Evalutation\n",
    "\n",
    "Prerequisite: Have [trec_eval](https://github.com/usnistgov/trec_eval) installed. Alternatively, use [Python](https://github.com/cvangysel/pytrec_eval) version.\n",
    "\n",
    "Install original trec_eval:\n",
    "1. Go to parent directory of this repo\n",
    "2. git clone https://github.com/usnistgov/trec_eval.git\n",
    "3. make\n"
   ]
  },
  {
   "cell_type": "code",
   "execution_count": 32,
   "metadata": {},
   "outputs": [],
   "source": [
    "# If follow above instruction, no need to change\n",
    "PATH_TO_TREC = \"../../trec_eval/trec_eval\"\n"
   ]
  },
  {
   "cell_type": "code",
   "execution_count": 41,
   "metadata": {},
   "outputs": [
    {
     "name": "stdout",
     "output_type": "stream",
     "text": [
      "runid                 \tall\tsolr_baseline_abstract\n",
      "num_q                 \tall\t45\n",
      "num_ret               \tall\t43448\n",
      "num_rel               \tall\t15765\n",
      "num_rel_ret           \tall\t980\n",
      "map                   \tall\t0.0192\n",
      "gm_map                \tall\t0.0005\n",
      "Rprec                 \tall\t0.0417\n",
      "bpref                 \tall\t0.0685\n",
      "recip_rank            \tall\t0.1259\n",
      "iprec_at_recall_0.00  \tall\t0.1494\n",
      "iprec_at_recall_0.10  \tall\t0.0535\n",
      "iprec_at_recall_0.20  \tall\t0.0444\n",
      "iprec_at_recall_0.30  \tall\t0.0302\n",
      "iprec_at_recall_0.40  \tall\t0.0227\n",
      "iprec_at_recall_0.50  \tall\t0.0058\n",
      "iprec_at_recall_0.60  \tall\t0.0000\n",
      "iprec_at_recall_0.70  \tall\t0.0000\n",
      "iprec_at_recall_0.80  \tall\t0.0000\n",
      "iprec_at_recall_0.90  \tall\t0.0000\n",
      "iprec_at_recall_1.00  \tall\t0.0000\n",
      "P_5                   \tall\t0.0711\n",
      "P_10                  \tall\t0.0578\n",
      "P_15                  \tall\t0.0652\n",
      "P_20                  \tall\t0.0711\n",
      "P_30                  \tall\t0.0681\n",
      "P_100                 \tall\t0.0529\n",
      "P_200                 \tall\t0.0433\n",
      "P_500                 \tall\t0.0296\n",
      "P_1000                \tall\t0.0218\n",
      "recall_5              \tall\t0.0017\n",
      "recall_10             \tall\t0.0029\n",
      "recall_15             \tall\t0.0048\n",
      "recall_20             \tall\t0.0071\n",
      "recall_30             \tall\t0.0105\n",
      "recall_100            \tall\t0.0258\n",
      "recall_200            \tall\t0.0399\n",
      "recall_500            \tall\t0.0571\n",
      "recall_1000           \tall\t0.0764\n",
      "infAP                 \tall\t0.0192\n",
      "gm_bpref              \tall\t0.0211\n",
      "Rprec_mult_0.20       \tall\t0.0598\n",
      "Rprec_mult_0.40       \tall\t0.0552\n",
      "Rprec_mult_0.60       \tall\t0.0493\n",
      "Rprec_mult_0.80       \tall\t0.0453\n",
      "Rprec_mult_1.00       \tall\t0.0417\n",
      "Rprec_mult_1.20       \tall\t0.0385\n",
      "Rprec_mult_1.40       \tall\t0.0363\n",
      "Rprec_mult_1.60       \tall\t0.0349\n",
      "Rprec_mult_1.80       \tall\t0.0321\n",
      "Rprec_mult_2.00       \tall\t0.0308\n",
      "utility               \tall\t-921.9556\n",
      "11pt_avg              \tall\t0.0278\n",
      "binG                  \tall\t0.0136\n",
      "G                     \tall\t0.0119\n",
      "ndcg                  \tall\t0.0668\n",
      "ndcg_rel              \tall\t0.0658\n",
      "Rndcg                 \tall\t0.0522\n",
      "ndcg_cut_5            \tall\t0.0677\n",
      "ndcg_cut_10           \tall\t0.0587\n",
      "ndcg_cut_15           \tall\t0.0629\n",
      "ndcg_cut_20           \tall\t0.0662\n",
      "ndcg_cut_30           \tall\t0.0630\n",
      "ndcg_cut_100          \tall\t0.0522\n",
      "ndcg_cut_200          \tall\t0.0509\n",
      "ndcg_cut_500          \tall\t0.0546\n",
      "ndcg_cut_1000         \tall\t0.0668\n",
      "map_cut_5             \tall\t0.0014\n",
      "map_cut_10            \tall\t0.0021\n",
      "map_cut_15            \tall\t0.0032\n",
      "map_cut_20            \tall\t0.0042\n",
      "map_cut_30            \tall\t0.0058\n",
      "map_cut_100           \tall\t0.0113\n",
      "map_cut_200           \tall\t0.0148\n",
      "map_cut_500           \tall\t0.0177\n",
      "map_cut_1000          \tall\t0.0192\n",
      "relative_P_5          \tall\t0.0711\n",
      "relative_P_10         \tall\t0.0578\n",
      "relative_P_15         \tall\t0.0652\n",
      "relative_P_20         \tall\t0.0711\n",
      "relative_P_30         \tall\t0.0681\n",
      "relative_P_100        \tall\t0.0547\n",
      "relative_P_200        \tall\t0.0559\n",
      "relative_P_500        \tall\t0.0578\n",
      "relative_P_1000       \tall\t0.0764\n",
      "success_1             \tall\t0.0889\n",
      "success_5             \tall\t0.1333\n",
      "success_10            \tall\t0.1778\n",
      "set_P                 \tall\t0.0292\n",
      "set_relative_P        \tall\t0.0764\n",
      "set_recall            \tall\t0.0764\n",
      "set_map               \tall\t0.0091\n",
      "set_F                 \tall\t0.0402\n",
      "num_nonrel_judged_ret \tall\t1207\n",
      "\n"
     ]
    }
   ],
   "source": [
    "\n",
    "os.system(PATH_TO_TREC + \" -c -m all_trec ../tmp/qrels-covid_d4_j0.5-4.txt  ../tmp/baseline.txt > ../tmp/out.txt\")\n",
    "\n",
    "with open(\"../tmp/out.txt\", \"r\") as f:\n",
    "    print(f.read())"
   ]
  },
  {
   "cell_type": "code",
   "execution_count": null,
   "metadata": {},
   "outputs": [],
   "source": []
  }
 ],
 "metadata": {
  "kernelspec": {
   "display_name": "Python 3",
   "language": "python",
   "name": "python3"
  },
  "language_info": {
   "codemirror_mode": {
    "name": "ipython",
    "version": 3
   },
   "file_extension": ".py",
   "mimetype": "text/x-python",
   "name": "python",
   "nbconvert_exporter": "python",
   "pygments_lexer": "ipython3",
   "version": "3.7.6"
  }
 },
 "nbformat": 4,
 "nbformat_minor": 4
}
