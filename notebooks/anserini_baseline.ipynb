{
 "cells": [
  {
   "cell_type": "markdown",
   "metadata": {},
   "source": [
    "# Anserini baseline\n",
    "\n",
    "Anserini provides Pyserini, a python package which wrap Anserini (JAVA). In order to run this Notebook, JAVA 11 must be installed.\n",
    "\n",
    "\n",
    "For official example, see [Anserini-notebooks](https://github.com/castorini/anserini-notebooks)."
   ]
  },
  {
   "cell_type": "code",
   "execution_count": 5,
   "metadata": {},
   "outputs": [
    {
     "name": "stdout",
     "output_type": "stream",
     "text": [
      "--2020-08-04 22:14:48--  https://ir.nist.gov/covidSubmit/data/topics-rnd4.xml\n",
      "Resolving ir.nist.gov (ir.nist.gov)... 129.6.24.92, 2610:20:6005:24::92\n",
      "Connecting to ir.nist.gov (ir.nist.gov)|129.6.24.92|:443... connected.\n",
      "HTTP request sent, awaiting response... 200 OK\n",
      "Length: 16327 (16K) [application/xml]\n",
      "Saving to: ‘../tmp/topics-rnd4.xml’\n",
      "\n",
      "topics-rnd4.xml     100%[===================>]  15.94K  --.-KB/s    in 0.1s    \n",
      "\n",
      "2020-08-04 22:14:49 (136 KB/s) - ‘../tmp/topics-rnd4.xml’ saved [16327/16327]\n",
      "\n"
     ]
    }
   ],
   "source": [
    "# download topics if not already done\n",
    "!wget -P ../tmp https://ir.nist.gov/covidSubmit/data/topics-rnd4.xml\n",
    "    \n",
    "# download pre-build index. \n",
    "# See https://github.com/castorini/anserini/blob/master/docs/experiments-cord19.md#pre-built-indexes-all-versions\n",
    "!wget -P ../tmp https://www.dropbox.com/s/jza7sdesjn7iqye/lucene-index-cord19-abstract-2020-07-16.tar.gz\n",
    "!tar -C ../tmp -zxf ../tmp/lucene-index-cord19-abstract-2020-07-16.tar.gz \n"
   ]
  },
  {
   "cell_type": "code",
   "execution_count": 2,
   "metadata": {},
   "outputs": [],
   "source": [
    "from xml.etree import ElementTree\n",
    "from pyserini.search import SimpleSearcher  # required JAVA 11\n",
    "\n",
    "def read_topics(path_to_topic):\n",
    "    tree = ElementTree.parse(path_to_topic)\n",
    "    topics = list()\n",
    "    for topic in tree.getroot():\n",
    "        d = dict()\n",
    "        d[\"number\"] = topic.attrib[\"number\"]\n",
    "        for field in topic:\n",
    "            d[field.tag] = field.text\n",
    "        topics.append(d)\n",
    "\n",
    "    return topics"
   ]
  },
  {
   "cell_type": "code",
   "execution_count": 17,
   "metadata": {},
   "outputs": [],
   "source": [
    "topics = read_topics(\"../tmp/topics-rnd4.xml\")"
   ]
  },
  {
   "cell_type": "code",
   "execution_count": 21,
   "metadata": {},
   "outputs": [
    {
     "name": "stdout",
     "output_type": "stream",
     "text": [
      "8ccl9aui\n"
     ]
    }
   ],
   "source": [
    "# test\n",
    "searcher = SimpleSearcher(\"../tmp/lucene-index-cord19-abstract-2020-07-16\")\n",
    "query = topics[0][\"query\"]\n",
    "hits = searcher.search(query)\n",
    "print(hits[0].docid)"
   ]
  },
  {
   "cell_type": "markdown",
   "metadata": {},
   "source": [
    "# Run Anserini on abstract"
   ]
  },
  {
   "cell_type": "code",
   "execution_count": 22,
   "metadata": {},
   "outputs": [],
   "source": [
    "lines = list()\n",
    "template = \"{} Q0 {} {} {} anserini_baseline_abstract\"\n",
    "queries = [e[\"query\"] for e in topics]\n",
    "\n",
    "\n",
    "for i, query in enumerate(queries):\n",
    "    seen = set()\n",
    "    hits = searcher.search(query, 1200)\n",
    "    for j, hit in enumerate(hits):\n",
    "        if hit.docid in seen:\n",
    "            continue\n",
    "        seen.add(hit.docid)\n",
    "        lines.append(template.format(i+1, hit.docid,j+1,  hit.score ))\n",
    "        if len(seen) == 1000:\n",
    "            break\n",
    "\n",
    "    "
   ]
  },
  {
   "cell_type": "code",
   "execution_count": 25,
   "metadata": {},
   "outputs": [
    {
     "name": "stdout",
     "output_type": "stream",
     "text": [
      "1 Q0 8ccl9aui 1 4.121799945831299 anserini_baseline_abstract\n"
     ]
    }
   ],
   "source": [
    "# see example\n",
    "print(lines[0])"
   ]
  },
  {
   "cell_type": "code",
   "execution_count": 26,
   "metadata": {},
   "outputs": [],
   "source": [
    "with open(\"../tmp/baseline.txt\", 'w') as f:\n",
    "    f.write(\"\\n\".join(lines))"
   ]
  },
  {
   "cell_type": "code",
   "execution_count": null,
   "metadata": {},
   "outputs": [],
   "source": []
  }
 ],
 "metadata": {
  "kernelspec": {
   "display_name": "Python 3",
   "language": "python",
   "name": "python3"
  },
  "language_info": {
   "codemirror_mode": {
    "name": "ipython",
    "version": 3
   },
   "file_extension": ".py",
   "mimetype": "text/x-python",
   "name": "python",
   "nbconvert_exporter": "python",
   "pygments_lexer": "ipython3",
   "version": "3.6.8"
  }
 },
 "nbformat": 4,
 "nbformat_minor": 4
}
