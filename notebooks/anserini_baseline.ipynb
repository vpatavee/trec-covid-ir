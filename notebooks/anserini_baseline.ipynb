{
 "cells": [
  {
   "cell_type": "markdown",
   "metadata": {},
   "source": [
    "# Anserini baseline\n",
    "\n",
    "Anserini provides Pyserini, a python package which wrap Anserini (JAVA). In order to run this Notebook, JAVA 11 must be installed.\n",
    "\n",
    "\n",
    "For official example, see [Anserini-notebooks](https://github.com/castorini/anserini-notebooks)."
   ]
  },
  {
   "cell_type": "code",
   "execution_count": 5,
   "metadata": {},
   "outputs": [
    {
     "name": "stdout",
     "output_type": "stream",
     "text": [
      "--2020-08-04 22:14:48--  https://ir.nist.gov/covidSubmit/data/topics-rnd4.xml\n",
      "Resolving ir.nist.gov (ir.nist.gov)... 129.6.24.92, 2610:20:6005:24::92\n",
      "Connecting to ir.nist.gov (ir.nist.gov)|129.6.24.92|:443... connected.\n",
      "HTTP request sent, awaiting response... 200 OK\n",
      "Length: 16327 (16K) [application/xml]\n",
      "Saving to: ‘../tmp/topics-rnd4.xml’\n",
      "\n",
      "topics-rnd4.xml     100%[===================>]  15.94K  --.-KB/s    in 0.1s    \n",
      "\n",
      "2020-08-04 22:14:49 (136 KB/s) - ‘../tmp/topics-rnd4.xml’ saved [16327/16327]\n",
      "\n"
     ]
    }
   ],
   "source": [
    "# download topics if not already done\n",
    "!wget -P ../tmp https://ir.nist.gov/covidSubmit/data/topics-rnd4.xml\n",
    "    \n",
    "# download pre-build index. \n",
    "# See https://github.com/castorini/anserini/blob/master/docs/experiments-cord19.md#pre-built-indexes-all-versions\n",
    "!wget -P ../tmp https://www.dropbox.com/s/jza7sdesjn7iqye/lucene-index-cord19-abstract-2020-07-16.tar.gz\n",
    "!tar -C ../tmp -zxf ../tmp/lucene-index-cord19-abstract-2020-07-16.tar.gz \n",
    "\n",
    "# download human judgement\n",
    "!wget -P ../tmp https://ir.nist.gov/covidSubmit/data/qrels-covid_d4_j0.5-4.txt"
   ]
  },
  {
   "cell_type": "code",
   "execution_count": 8,
   "metadata": {},
   "outputs": [],
   "source": [
    "from xml.etree import ElementTree\n",
    "from pyserini.search import SimpleSearcher  # required JAVA 11\n",
    "import pytrec_eval\n",
    "import os\n",
    "\n",
    "def read_topics(path_to_topic):\n",
    "    tree = ElementTree.parse(path_to_topic)\n",
    "    topics = list()\n",
    "    for topic in tree.getroot():\n",
    "        d = dict()\n",
    "        d[\"number\"] = topic.attrib[\"number\"]\n",
    "        for field in topic:\n",
    "            d[field.tag] = field.text\n",
    "        topics.append(d)\n",
    "\n",
    "    return topics"
   ]
  },
  {
   "cell_type": "code",
   "execution_count": 2,
   "metadata": {},
   "outputs": [],
   "source": [
    "topics = read_topics(\"../tmp/topics-rnd4.xml\")"
   ]
  },
  {
   "cell_type": "code",
   "execution_count": 3,
   "metadata": {},
   "outputs": [
    {
     "name": "stdout",
     "output_type": "stream",
     "text": [
      "8ccl9aui\n"
     ]
    }
   ],
   "source": [
    "# test\n",
    "searcher = SimpleSearcher(\"../tmp/lucene-index-cord19-abstract-2020-07-16\")\n",
    "query = topics[0][\"query\"]\n",
    "hits = searcher.search(query)\n",
    "print(hits[0].docid)"
   ]
  },
  {
   "cell_type": "markdown",
   "metadata": {},
   "source": [
    "# Run Anserini on abstract"
   ]
  },
  {
   "cell_type": "code",
   "execution_count": 4,
   "metadata": {},
   "outputs": [],
   "source": [
    "lines = list()\n",
    "template = \"{} Q0 {} {} {} anserini_baseline_abstract\"\n",
    "queries = [e[\"query\"] for e in topics]\n",
    "\n",
    "\n",
    "for i, query in enumerate(queries):\n",
    "    seen = set()\n",
    "    hits = searcher.search(query, 1200)\n",
    "    for j, hit in enumerate(hits):\n",
    "        if hit.docid in seen:\n",
    "            continue\n",
    "        seen.add(hit.docid)\n",
    "        lines.append(template.format(i+1, hit.docid,j+1,  hit.score ))\n",
    "        if len(seen) == 1000:\n",
    "            break\n",
    "\n",
    "    "
   ]
  },
  {
   "cell_type": "code",
   "execution_count": 5,
   "metadata": {},
   "outputs": [
    {
     "name": "stdout",
     "output_type": "stream",
     "text": [
      "1 Q0 8ccl9aui 1 4.121799945831299 anserini_baseline_abstract\n"
     ]
    }
   ],
   "source": [
    "# see example\n",
    "print(lines[0])"
   ]
  },
  {
   "cell_type": "code",
   "execution_count": 6,
   "metadata": {},
   "outputs": [],
   "source": [
    "with open(\"../tmp/baseline.txt\", 'w') as f:\n",
    "    f.write(\"\\n\".join(lines))"
   ]
  },
  {
   "cell_type": "markdown",
   "metadata": {},
   "source": [
    "# Evalutation\n",
    "\n",
    "Prerequisite: Have [trec_eval](https://github.com/usnistgov/trec_eval) installed. Alternatively, use [Python](https://github.com/cvangysel/pytrec_eval) version.\n",
    "\n",
    "Install original trec_eval:\n",
    "1. Go to parent directory of this repo\n",
    "2. git clone https://github.com/usnistgov/trec_eval.git\n",
    "3. make\n"
   ]
  },
  {
   "cell_type": "code",
   "execution_count": 31,
   "metadata": {},
   "outputs": [],
   "source": [
    "# If follow above instruction, no need to change\n",
    "PATH_TO_TREC = \"../../trec_eval/trec_eval\"\n"
   ]
  },
  {
   "cell_type": "code",
   "execution_count": 32,
   "metadata": {},
   "outputs": [
    {
     "name": "stdout",
     "output_type": "stream",
     "text": [
      "runid                 \tall\tanserini_baseline_abstract\n",
      "num_q                 \tall\t45\n",
      "num_ret               \tall\t45000\n",
      "num_rel               \tall\t15765\n",
      "num_rel_ret           \tall\t5550\n",
      "map                   \tall\t0.1396\n",
      "gm_map                \tall\t0.0733\n",
      "Rprec                 \tall\t0.2371\n",
      "bpref                 \tall\t0.3419\n",
      "recip_rank            \tall\t0.6778\n",
      "iprec_at_recall_0.00  \tall\t0.7627\n",
      "iprec_at_recall_0.10  \tall\t0.3574\n",
      "iprec_at_recall_0.20  \tall\t0.2880\n",
      "iprec_at_recall_0.30  \tall\t0.2153\n",
      "iprec_at_recall_0.40  \tall\t0.1358\n",
      "iprec_at_recall_0.50  \tall\t0.0946\n",
      "iprec_at_recall_0.60  \tall\t0.0555\n",
      "iprec_at_recall_0.70  \tall\t0.0241\n",
      "iprec_at_recall_0.80  \tall\t0.0067\n",
      "iprec_at_recall_0.90  \tall\t0.0066\n",
      "iprec_at_recall_1.00  \tall\t0.0019\n",
      "P_5                   \tall\t0.4800\n",
      "P_10                  \tall\t0.4422\n",
      "P_15                  \tall\t0.4237\n",
      "P_20                  \tall\t0.4167\n",
      "P_30                  \tall\t0.4015\n",
      "P_100                 \tall\t0.3256\n",
      "P_200                 \tall\t0.2709\n",
      "P_500                 \tall\t0.1843\n",
      "P_1000                \tall\t0.1233\n",
      "recall_5              \tall\t0.0085\n",
      "recall_10             \tall\t0.0173\n",
      "recall_15             \tall\t0.0245\n",
      "recall_20             \tall\t0.0325\n",
      "recall_30             \tall\t0.0476\n",
      "recall_100            \tall\t0.1232\n",
      "recall_200            \tall\t0.1958\n",
      "recall_500            \tall\t0.3121\n",
      "recall_1000           \tall\t0.3968\n",
      "infAP                 \tall\t0.1396\n",
      "gm_bpref              \tall\t0.2470\n",
      "Rprec_mult_0.20       \tall\t0.3553\n",
      "Rprec_mult_0.40       \tall\t0.3207\n",
      "Rprec_mult_0.60       \tall\t0.2907\n",
      "Rprec_mult_0.80       \tall\t0.2612\n",
      "Rprec_mult_1.00       \tall\t0.2371\n",
      "Rprec_mult_1.20       \tall\t0.2165\n",
      "Rprec_mult_1.40       \tall\t0.2016\n",
      "Rprec_mult_1.60       \tall\t0.1882\n",
      "Rprec_mult_1.80       \tall\t0.1760\n",
      "Rprec_mult_2.00       \tall\t0.1653\n",
      "utility               \tall\t-753.3333\n",
      "11pt_avg              \tall\t0.1771\n",
      "binG                  \tall\t0.0701\n",
      "G                     \tall\t0.0634\n",
      "ndcg                  \tall\t0.3724\n",
      "ndcg_rel              \tall\t0.3432\n",
      "Rndcg                 \tall\t0.3037\n",
      "ndcg_cut_5            \tall\t0.4293\n",
      "ndcg_cut_10           \tall\t0.4089\n",
      "ndcg_cut_15           \tall\t0.3906\n",
      "ndcg_cut_20           \tall\t0.3827\n",
      "ndcg_cut_30           \tall\t0.3681\n",
      "ndcg_cut_100          \tall\t0.3102\n",
      "ndcg_cut_200          \tall\t0.2916\n",
      "ndcg_cut_500          \tall\t0.3206\n",
      "ndcg_cut_1000         \tall\t0.3724\n",
      "map_cut_5             \tall\t0.0068\n",
      "map_cut_10            \tall\t0.0116\n",
      "map_cut_15            \tall\t0.0155\n",
      "map_cut_20            \tall\t0.0198\n",
      "map_cut_30            \tall\t0.0275\n",
      "map_cut_100           \tall\t0.0621\n",
      "map_cut_200           \tall\t0.0894\n",
      "map_cut_500           \tall\t0.1231\n",
      "map_cut_1000          \tall\t0.1396\n",
      "relative_P_5          \tall\t0.4800\n",
      "relative_P_10         \tall\t0.4422\n",
      "relative_P_15         \tall\t0.4237\n",
      "relative_P_20         \tall\t0.4167\n",
      "relative_P_30         \tall\t0.4015\n",
      "relative_P_100        \tall\t0.3298\n",
      "relative_P_200        \tall\t0.2999\n",
      "relative_P_500        \tall\t0.3193\n",
      "relative_P_1000       \tall\t0.3968\n",
      "success_1             \tall\t0.5556\n",
      "success_5             \tall\t0.8667\n",
      "success_10            \tall\t0.9556\n",
      "set_P                 \tall\t0.1233\n",
      "set_relative_P        \tall\t0.3968\n",
      "set_recall            \tall\t0.3968\n",
      "set_map               \tall\t0.0572\n",
      "set_F                 \tall\t0.1790\n",
      "num_nonrel_judged_ret \tall\t4214\n",
      "\n"
     ]
    }
   ],
   "source": [
    "\n",
    "os.system(PATH_TO_TREC + \" -c -m all_trec ../tmp/qrels-covid_d4_j0.5-4.txt  ../tmp/baseline.txt > ../tmp/out.txt\")\n",
    "\n",
    "with open(\"../tmp/out.txt\", \"r\") as f:\n",
    "    print(f.read())"
   ]
  },
  {
   "cell_type": "code",
   "execution_count": null,
   "metadata": {},
   "outputs": [],
   "source": []
  }
 ],
 "metadata": {
  "kernelspec": {
   "display_name": "Python 3",
   "language": "python",
   "name": "python3"
  },
  "language_info": {
   "codemirror_mode": {
    "name": "ipython",
    "version": 3
   },
   "file_extension": ".py",
   "mimetype": "text/x-python",
   "name": "python",
   "nbconvert_exporter": "python",
   "pygments_lexer": "ipython3",
   "version": "3.6.8"
  }
 },
 "nbformat": 4,
 "nbformat_minor": 4
}
