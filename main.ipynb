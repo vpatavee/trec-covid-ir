{
 "cells": [
  {
   "cell_type": "code",
   "execution_count": 44,
   "metadata": {},
   "outputs": [
    {
     "name": "stdout",
     "output_type": "stream",
     "text": [
      "The autoreload extension is already loaded. To reload it, use:\n",
      "  %reload_ext autoreload\n"
     ]
    }
   ],
   "source": [
    "%load_ext autoreload\n",
    "%autoreload\n",
    "\n",
    "from utils.utils import metadata2dict, create_sample_submission"
   ]
  },
  {
   "cell_type": "code",
   "execution_count": 22,
   "metadata": {},
   "outputs": [],
   "source": [
    "path_to_metadata = \"../trec_july_16/2020-07-16/metadata.csv\"\n",
    "path_to_document_parses = \"../trec_july_16/2020-07-16/document_parses/\""
   ]
  },
  {
   "cell_type": "code",
   "execution_count": 23,
   "metadata": {},
   "outputs": [],
   "source": [
    "metadata_dict = metadata2dict(path_to_metadata, path_to_document_parses)"
   ]
  },
  {
   "cell_type": "code",
   "execution_count": 24,
   "metadata": {},
   "outputs": [
    {
     "data": {
      "text/plain": [
       "'02tnwd4m'"
      ]
     },
     "execution_count": 24,
     "metadata": {},
     "output_type": "execute_result"
    }
   ],
   "source": [
    "list(metadata_dict.keys())[1]"
   ]
  },
  {
   "cell_type": "code",
   "execution_count": 25,
   "metadata": {},
   "outputs": [
    {
     "data": {
      "text/plain": [
       "{'path': 'document_parses/pmc_json/PMC302072.xml.json',\n",
       " 'abstract': 'Heterogeneous nuclear ribonucleoprotein (hnRNP A1) is involved in pre-mRNA splicing in the nucleus and translational regulation in the cytoplasm. In the present study, we demonstrate that hnRNP A1 also participates in the transcription and replication of a cytoplasmic RNA virus, mouse hepatitis virus (MHV). Overexpression of hnRNP A1 accelerated the kinetics of viral RNA synthesis, whereas the expression in the cytoplasm of a dominant-negative hnRNP A1 mutant that lacks the nuclear transport domain significantly delayed it. The hnRNP A1 mutant caused a global inhibition of viral mRNA transcription and genomic replication, and also a preferential inhibition of the replication of defective-interfering RNAs. Similar to the wild-type hnRNP A1, the hnRNP A1 mutant complexed with an MHV polymerase gene product, the nucleocapsid protein and the viral RNA. However, in contrast to the wild-type hnRNP A1, the mutant protein failed to bind a 250 kDa cellular protein, suggesting that the recruitment of cellular proteins by hnRNP A1 is important for MHV RNA synthesis. Our findings establish the importance of cellular factors in viral RNA-dependent RNA synthesis.',\n",
       " 'title': 'Heterogeneous nuclear ribonucleoprotein A1 regulates RNA synthesis of a cytoplasmic virus'}"
      ]
     },
     "execution_count": 25,
     "metadata": {},
     "output_type": "execute_result"
    }
   ],
   "source": [
    "metadata_dict[list(metadata_dict.keys())[11]]"
   ]
  },
  {
   "cell_type": "code",
   "execution_count": 45,
   "metadata": {},
   "outputs": [],
   "source": [
    "s = create_sample_submission(list(metadata_dict.keys()), n_topic=35, m=5)\n",
    "with open(\"sample_submission.txt\", \"w\") as f:\n",
    "    f.write(s)"
   ]
  },
  {
   "cell_type": "code",
   "execution_count": 46,
   "metadata": {},
   "outputs": [
    {
     "name": "stdout",
     "output_type": "stream",
     "text": [
      "1 Q0 eieayxk7 1 1 sample\n",
      "1 Q0 oqhgalt0 2 2 sample\n",
      "1 Q0 x8ep27nz 3 3 sample\n",
      "1 Q0 3ipir1yk 4 4 sample\n",
      "1 Q0 8lgkeeqq 5 5 sample\n",
      "2 Q0 y9f5hwou 1 1 sample\n",
      "2 Q0 1zqec5pe 2 2 sample\n",
      "2 Q0 l8xjolt5 3 3 sample\n",
      "2 Q0 ysbvcs5m 4 4 sample\n",
      "2 Q0 3wo0ycah 5 5 sample\n",
      "3 Q0 eevc0cco 1 1 sample\n",
      "3 Q0 ppytrndd 2 2 sample\n",
      "3 Q0 rqw7q7g9 3 3 sample\n",
      "3 Q0 b9mjdluh 4 4 sample\n",
      "3 Q0 rzj773h8 5 5 sample\n",
      "4 Q0 5oossfn9 1 1 sample\n",
      "4 Q0 g46myqe7 2 2 sample\n",
      "4 Q0 6tvbhf5m 3 3 sample\n",
      "4 Q0 wnvmo2j9 4 4 sample\n",
      "4 Q0 i8ap94hw 5 5 sample\n",
      "5 Q0 gqpt0km1 1 1 sample\n",
      "5 Q0 5t3z52r8 2 2 sample\n",
      "5 Q0 nmdvv3mz 3 3 sample\n",
      "5 Q0 kwytbhe7 4 4 sample\n",
      "5 Q0 53d2vhy5 5 5 sample\n",
      "6 Q0 dq1b71o6 1 1 sample\n",
      "6 Q0 fufmgwn9 2 2 sample\n",
      "6 Q0 9zxftrgc 3 3 sample\n",
      "6 Q0 bcv1wpfb 4 4 sample\n",
      "6 Q0 b1d9jcop 5 5 sample\n",
      "7 Q0 23jf7uck 1 1 sample\n",
      "7 Q0 r9at5klu 2 2 sample\n",
      "7 Q0 8j04y50s 3 3 sample\n",
      "7 Q0 c6uk93fz 4 4 sample\n",
      "7 Q0 o1x8c9o4 5 5 sample\n",
      "8 Q0 ieytilid 1 1 sample\n",
      "8 Q0 k05xb6qb 2 2 sample\n",
      "8 Q0 64q38xa1 3 3 sample\n",
      "8 Q0 zv7vehm3 4 4 sample\n",
      "8 Q0 d6awwygy 5 5 sample\n",
      "9 Q0 a8bw3zhw 1 1 sample\n",
      "9 Q0 bsyt788f 2 2 sample\n",
      "9 Q0 6uxf6imo 3 3 sample\n",
      "9 Q0 b68sqnt5 4 4 sample\n",
      "9 Q0 re0xpzsc 5 5 sample\n",
      "10 Q0 8vtd9e4n 1 1 sample\n",
      "10 Q0 9pel35or 2 2 sample\n",
      "10 Q0 98sygj8n 3 3 sample\n",
      "10 Q0 65adbo9f 4 4 sample\n",
      "10 Q0 j7klfgw7 5 5 sample\n",
      "11 Q0 v5kvz7rp 1 1 sample\n",
      "11 Q0 9u5c0iij 2 2 sample\n",
      "11 Q0 0v8hhrzx 3 3 sample\n",
      "11 Q0 0t3fdpj5 4 4 sample\n",
      "11 Q0 0uo6grhh 5 5 sample\n",
      "12 Q0 5uecni4d 1 1 sample\n",
      "12 Q0 jdg0k9v5 2 2 sample\n",
      "12 Q0 04oa5h38 3 3 sample\n",
      "12 Q0 z11u59dr 4 4 sample\n",
      "12 Q0 x0fmt7pr 5 5 sample\n",
      "13 Q0 j6h8u8gb 1 1 sample\n",
      "13 Q0 jn1aez33 2 2 sample\n",
      "13 Q0 4ftix66z 3 3 sample\n",
      "13 Q0 ttoysaxz 4 4 sample\n",
      "13 Q0 pta94a8q 5 5 sample\n",
      "14 Q0 svwdyoc4 1 1 sample\n",
      "14 Q0 ahwikd77 2 2 sample\n",
      "14 Q0 wx1zosa9 3 3 sample\n",
      "14 Q0 j67rwc0i 4 4 sample\n",
      "14 Q0 ew9w127c 5 5 sample\n",
      "15 Q0 cn6e4vjg 1 1 sample\n",
      "15 Q0 ji9oc5xy 2 2 sample\n",
      "15 Q0 52sytr1p 3 3 sample\n",
      "15 Q0 n6wirf43 4 4 sample\n",
      "15 Q0 b58wx1x3 5 5 sample\n",
      "16 Q0 km1n7k70 1 1 sample\n",
      "16 Q0 su37g65e 2 2 sample\n",
      "16 Q0 qbeq90vb 3 3 sample\n",
      "16 Q0 q4qibfpf 4 4 sample\n",
      "16 Q0 1ta0synv 5 5 sample\n",
      "17 Q0 97n1j0jj 1 1 sample\n",
      "17 Q0 vgfz4xy2 2 2 sample\n",
      "17 Q0 p3qgr8es 3 3 sample\n",
      "17 Q0 04esvfhp 4 4 sample\n",
      "17 Q0 l2grhb96 5 5 sample\n",
      "18 Q0 4argmwub 1 1 sample\n",
      "18 Q0 pie5229i 2 2 sample\n",
      "18 Q0 78fv9wdl 3 3 sample\n",
      "18 Q0 m04pcwoo 4 4 sample\n",
      "18 Q0 g8qwj4wk 5 5 sample\n",
      "19 Q0 ywslqh3a 1 1 sample\n",
      "19 Q0 mwn8y7ji 2 2 sample\n",
      "19 Q0 6upzel2k 3 3 sample\n",
      "19 Q0 jiisak9a 4 4 sample\n",
      "19 Q0 dt0e8ly4 5 5 sample\n",
      "20 Q0 109g0pyp 1 1 sample\n",
      "20 Q0 hosw54nz 2 2 sample\n",
      "20 Q0 tm07fwg3 3 3 sample\n",
      "20 Q0 jj8anf5g 4 4 sample\n",
      "20 Q0 gexdgyfv 5 5 sample\n",
      "21 Q0 kttw9sq1 1 1 sample\n",
      "21 Q0 smw559sz 2 2 sample\n",
      "21 Q0 6k09684o 3 3 sample\n",
      "21 Q0 5217c3jn 4 4 sample\n",
      "21 Q0 omczk2i5 5 5 sample\n",
      "22 Q0 1sbb0e3w 1 1 sample\n",
      "22 Q0 j9xo07a9 2 2 sample\n",
      "22 Q0 tpz4wyow 3 3 sample\n",
      "22 Q0 t55yivg7 4 4 sample\n",
      "22 Q0 m8l9y6ci 5 5 sample\n",
      "23 Q0 653viyaq 1 1 sample\n",
      "23 Q0 gqs5voj6 2 2 sample\n",
      "23 Q0 wtqv9chl 3 3 sample\n",
      "23 Q0 okrpa7k7 4 4 sample\n",
      "23 Q0 6xo48rpr 5 5 sample\n",
      "24 Q0 df4mh390 1 1 sample\n",
      "24 Q0 3uzsx715 2 2 sample\n",
      "24 Q0 6w8tcd6h 3 3 sample\n",
      "24 Q0 yti2nukb 4 4 sample\n",
      "24 Q0 5miu8e8t 5 5 sample\n",
      "25 Q0 x89udfrz 1 1 sample\n",
      "25 Q0 z5fvopfv 2 2 sample\n",
      "25 Q0 kb5mcj1f 3 3 sample\n",
      "25 Q0 6egncoey 4 4 sample\n",
      "25 Q0 e1yzrc6n 5 5 sample\n",
      "26 Q0 e0ccq2b3 1 1 sample\n",
      "26 Q0 idfivpbo 2 2 sample\n",
      "26 Q0 38fk66zb 3 3 sample\n",
      "26 Q0 8qczl2fu 4 4 sample\n",
      "26 Q0 awnwlvzc 5 5 sample\n",
      "27 Q0 is0lp6no 1 1 sample\n",
      "27 Q0 w25x945n 2 2 sample\n",
      "27 Q0 n1aw0lyx 3 3 sample\n",
      "27 Q0 40csibsx 4 4 sample\n",
      "27 Q0 ne8k1vez 5 5 sample\n",
      "28 Q0 51jquk7e 1 1 sample\n",
      "28 Q0 8tldrtcb 2 2 sample\n",
      "28 Q0 eszh364b 3 3 sample\n",
      "28 Q0 r9okti1v 4 4 sample\n",
      "28 Q0 zik7h675 5 5 sample\n",
      "29 Q0 oes06tyq 1 1 sample\n",
      "29 Q0 e0pwy55x 2 2 sample\n",
      "29 Q0 17cc0vxx 3 3 sample\n",
      "29 Q0 79hfr31b 4 4 sample\n",
      "29 Q0 dxqb10r5 5 5 sample\n",
      "30 Q0 drx0v9mf 1 1 sample\n",
      "30 Q0 x6gkgbkf 2 2 sample\n",
      "30 Q0 bgqdx4qi 3 3 sample\n",
      "30 Q0 20los4eg 4 4 sample\n",
      "30 Q0 vt531096 5 5 sample\n",
      "31 Q0 7z3d4aez 1 1 sample\n",
      "31 Q0 w5ddr54a 2 2 sample\n",
      "31 Q0 a9eci2qm 3 3 sample\n",
      "31 Q0 ruoc56ni 4 4 sample\n",
      "31 Q0 dg9csjmg 5 5 sample\n",
      "32 Q0 pwxlma9c 1 1 sample\n",
      "32 Q0 64ge9fi4 2 2 sample\n",
      "32 Q0 e6m1tkrs 3 3 sample\n",
      "32 Q0 th0kjd6g 4 4 sample\n",
      "32 Q0 jkhqt4qn 5 5 sample\n",
      "33 Q0 84yyl0f3 1 1 sample\n",
      "33 Q0 nhiai13k 2 2 sample\n",
      "33 Q0 7e9sg2bm 3 3 sample\n",
      "33 Q0 cla2ta1b 4 4 sample\n",
      "33 Q0 nns3bl63 5 5 sample\n",
      "34 Q0 kcpkokci 1 1 sample\n",
      "34 Q0 7uy98rfk 2 2 sample\n",
      "34 Q0 1yhjh4nm 3 3 sample\n",
      "34 Q0 nfaef8q7 4 4 sample\n",
      "34 Q0 pe8yscu3 5 5 sample\n",
      "35 Q0 9dzrqcfz 1 1 sample\n",
      "35 Q0 pyc7mos9 2 2 sample\n",
      "35 Q0 xblwcw5s 3 3 sample\n",
      "35 Q0 qk8gnbgr 4 4 sample\n",
      "35 Q0 dy12450e 5 5 sample\n"
     ]
    }
   ],
   "source": [
    "print(s)"
   ]
  },
  {
   "cell_type": "code",
   "execution_count": null,
   "metadata": {},
   "outputs": [],
   "source": []
  }
 ],
 "metadata": {
  "kernelspec": {
   "display_name": "Python 3",
   "language": "python",
   "name": "python3"
  },
  "language_info": {
   "codemirror_mode": {
    "name": "ipython",
    "version": 3
   },
   "file_extension": ".py",
   "mimetype": "text/x-python",
   "name": "python",
   "nbconvert_exporter": "python",
   "pygments_lexer": "ipython3",
   "version": "3.7.6"
  }
 },
 "nbformat": 4,
 "nbformat_minor": 4
}
