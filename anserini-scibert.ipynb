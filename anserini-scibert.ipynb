{
 "cells": [
  {
   "cell_type": "code",
   "execution_count": 14,
   "metadata": {},
   "outputs": [],
   "source": [
    "anserini_path = \"anserini.covid-r5.abstract.qdel.bm25+rm3Rf.txt\"\n",
    "qrel_path = \"anserini.covid-r5.abstract.qdel.bm25+rm3Rf.txt\"\n",
    "path_to_data = \"../CORD-19/2020-07-16/\"\n",
    "path_to_metadata = \"../CORD-19/2020-07-16/metadata.csv\"\n",
    "path_to_document_parses = \"../CORD-17/2020-07-16/document_parses/\"\n",
    "path_to_topics = \"topics-rnd5.xml\""
   ]
  },
  {
   "cell_type": "code",
   "execution_count": 12,
   "metadata": {},
   "outputs": [],
   "source": [
    "import json\n",
    "import csv"
   ]
  },
  {
   "cell_type": "code",
   "execution_count": 5,
   "metadata": {},
   "outputs": [],
   "source": [
    "with open(anserini_path, \"r\") as f:\n",
    "    anserini = f.readlines()"
   ]
  },
  {
   "cell_type": "code",
   "execution_count": 22,
   "metadata": {},
   "outputs": [
    {
     "data": {
      "text/plain": [
       "['1',\n",
       " 'Q0',\n",
       " '4dtk1kyh',\n",
       " '1',\n",
       " '1.191900',\n",
       " 'anserini.covid-r5.abstract.qdel.bm25+rm3Rf.txt']"
      ]
     },
     "execution_count": 22,
     "metadata": {},
     "output_type": "execute_result"
    }
   ],
   "source": [
    "anserini[0].strip().split()"
   ]
  },
  {
   "cell_type": "code",
   "execution_count": 13,
   "metadata": {},
   "outputs": [],
   "source": [
    "abstract_dict = dict()\n",
    "with open(path_to_metadata) as f_in:\n",
    "    reader = csv.DictReader(f_in)\n",
    "    for row in reader:\n",
    "        cord_uid = row['cord_uid']\n",
    "        abstract = row['abstract']\n",
    "        abstract_dict[cord_uid] = abstract\n",
    "\n",
    "    "
   ]
  },
  {
   "cell_type": "code",
   "execution_count": 15,
   "metadata": {},
   "outputs": [],
   "source": [
    "from lib.utils import read_topics_set_to_df"
   ]
  },
  {
   "cell_type": "code",
   "execution_count": 25,
   "metadata": {},
   "outputs": [
    {
     "data": {
      "text/html": [
       "<div>\n",
       "<style scoped>\n",
       "    .dataframe tbody tr th:only-of-type {\n",
       "        vertical-align: middle;\n",
       "    }\n",
       "\n",
       "    .dataframe tbody tr th {\n",
       "        vertical-align: top;\n",
       "    }\n",
       "\n",
       "    .dataframe thead th {\n",
       "        text-align: right;\n",
       "    }\n",
       "</style>\n",
       "<table border=\"1\" class=\"dataframe\">\n",
       "  <thead>\n",
       "    <tr style=\"text-align: right;\">\n",
       "      <th></th>\n",
       "      <th>query</th>\n",
       "      <th>question</th>\n",
       "      <th>narrative</th>\n",
       "    </tr>\n",
       "    <tr>\n",
       "      <th>number</th>\n",
       "      <th></th>\n",
       "      <th></th>\n",
       "      <th></th>\n",
       "    </tr>\n",
       "  </thead>\n",
       "  <tbody>\n",
       "    <tr>\n",
       "      <th>1</th>\n",
       "      <td>coronavirus origin</td>\n",
       "      <td>what is the origin of COVID-19</td>\n",
       "      <td>seeking range of information about the SARS-Co...</td>\n",
       "    </tr>\n",
       "    <tr>\n",
       "      <th>2</th>\n",
       "      <td>coronavirus response to weather changes</td>\n",
       "      <td>how does the coronavirus respond to changes in...</td>\n",
       "      <td>seeking range of information about the SARS-Co...</td>\n",
       "    </tr>\n",
       "    <tr>\n",
       "      <th>3</th>\n",
       "      <td>coronavirus immunity</td>\n",
       "      <td>will SARS-CoV2 infected people develop immunit...</td>\n",
       "      <td>seeking studies of immunity developed due to i...</td>\n",
       "    </tr>\n",
       "    <tr>\n",
       "      <th>4</th>\n",
       "      <td>how do people die from the coronavirus</td>\n",
       "      <td>what causes death from Covid-19?</td>\n",
       "      <td>Studies looking at mechanisms of death from Co...</td>\n",
       "    </tr>\n",
       "    <tr>\n",
       "      <th>5</th>\n",
       "      <td>animal models of COVID-19</td>\n",
       "      <td>what drugs have been active against SARS-CoV o...</td>\n",
       "      <td>Papers that describe the results  of testing d...</td>\n",
       "    </tr>\n",
       "  </tbody>\n",
       "</table>\n",
       "</div>"
      ],
      "text/plain": [
       "                                          query  \\\n",
       "number                                            \n",
       "1                            coronavirus origin   \n",
       "2       coronavirus response to weather changes   \n",
       "3                          coronavirus immunity   \n",
       "4        how do people die from the coronavirus   \n",
       "5                     animal models of COVID-19   \n",
       "\n",
       "                                                 question  \\\n",
       "number                                                      \n",
       "1                          what is the origin of COVID-19   \n",
       "2       how does the coronavirus respond to changes in...   \n",
       "3       will SARS-CoV2 infected people develop immunit...   \n",
       "4                        what causes death from Covid-19?   \n",
       "5       what drugs have been active against SARS-CoV o...   \n",
       "\n",
       "                                                narrative  \n",
       "number                                                     \n",
       "1       seeking range of information about the SARS-Co...  \n",
       "2       seeking range of information about the SARS-Co...  \n",
       "3       seeking studies of immunity developed due to i...  \n",
       "4       Studies looking at mechanisms of death from Co...  \n",
       "5       Papers that describe the results  of testing d...  "
      ]
     },
     "execution_count": 25,
     "metadata": {},
     "output_type": "execute_result"
    }
   ],
   "source": [
    "topics_df = read_topics_set_to_df(path_to_topics).set_index(\"number\")\n",
    "topics_df.head()"
   ]
  },
  {
   "cell_type": "code",
   "execution_count": 20,
   "metadata": {},
   "outputs": [],
   "source": [
    "\n",
    "\n",
    "\"\"\"\n",
    "{\n",
    "    \"1\": {\"question\": \"what is COVID\", \"abstract\": [{\"uid\": \"...\"}, {\"text\": \"...\"}]}\n",
    "\n",
    "\n",
    "\n",
    "}\n",
    "\n",
    "\n",
    "\"\"\""
   ]
  },
  {
   "cell_type": "code",
   "execution_count": 35,
   "metadata": {},
   "outputs": [],
   "source": [
    "data_to_rerank = dict()\n",
    "for line in anserini:\n",
    "    number, _, uid, _, _, _ = line.split()\n",
    "    abstract = abstract_dict[uid]\n",
    "    \n",
    "    if number not in data_to_rerank:\n",
    "        data_to_rerank[number] = {\n",
    "            \"question\": topics_df.loc[number, \"question\"], \n",
    "            \"abstract\":list()\n",
    "        }\n",
    "\n",
    "    d = data_to_rerank[number]\n",
    "    d[\"abstract\"].append(\n",
    "        {\n",
    "            \"uid\": uid,\n",
    "            \"text\": abstract_dict[uid]\n",
    "        }\n",
    "    )\n",
    "    \n",
    "    \n",
    "    \n",
    "with open(\"data_to_rerank.json\",\"w\") as f:\n",
    "    json.dump(data_to_rerank, f)\n"
   ]
  },
  {
   "cell_type": "code",
   "execution_count": 36,
   "metadata": {},
   "outputs": [
    {
     "data": {
      "text/plain": [
       "6"
      ]
     },
     "execution_count": 36,
     "metadata": {},
     "output_type": "execute_result"
    }
   ],
   "source": [
    "33//5"
   ]
  },
  {
   "cell_type": "code",
   "execution_count": 37,
   "metadata": {},
   "outputs": [],
   "source": [
    "import numpy as np"
   ]
  },
  {
   "cell_type": "code",
   "execution_count": 51,
   "metadata": {},
   "outputs": [],
   "source": [
    "foo = np.zeros([10,2])"
   ]
  },
  {
   "cell_type": "code",
   "execution_count": 47,
   "metadata": {},
   "outputs": [
    {
     "data": {
      "text/plain": [
       "(3, 2)"
      ]
     },
     "execution_count": 47,
     "metadata": {},
     "output_type": "execute_result"
    }
   ],
   "source": [
    "bar = np.array([[1,2], [3,4], [5,6]])\n",
    "bar.shape"
   ]
  },
  {
   "cell_type": "code",
   "execution_count": 46,
   "metadata": {},
   "outputs": [
    {
     "data": {
      "text/plain": [
       "(2, 2)"
      ]
     },
     "execution_count": 46,
     "metadata": {},
     "output_type": "execute_result"
    }
   ],
   "source": [
    "bar.shape"
   ]
  },
  {
   "cell_type": "code",
   "execution_count": 52,
   "metadata": {},
   "outputs": [],
   "source": [
    "foo[0:3, :] = bar"
   ]
  },
  {
   "cell_type": "code",
   "execution_count": 53,
   "metadata": {},
   "outputs": [
    {
     "data": {
      "text/plain": [
       "array([[1., 2.],\n",
       "       [3., 4.],\n",
       "       [5., 6.],\n",
       "       [0., 0.],\n",
       "       [0., 0.],\n",
       "       [0., 0.],\n",
       "       [0., 0.],\n",
       "       [0., 0.],\n",
       "       [0., 0.],\n",
       "       [0., 0.]])"
      ]
     },
     "execution_count": 53,
     "metadata": {},
     "output_type": "execute_result"
    }
   ],
   "source": [
    "foo"
   ]
  },
  {
   "cell_type": "code",
   "execution_count": 54,
   "metadata": {},
   "outputs": [
    {
     "name": "stdout",
     "output_type": "stream",
     "text": [
      "finish topic 11\n"
     ]
    }
   ],
   "source": [
    "print(\"finish topic {}\".format(str(11)))"
   ]
  },
  {
   "cell_type": "code",
   "execution_count": null,
   "metadata": {},
   "outputs": [],
   "source": []
  }
 ],
 "metadata": {
  "kernelspec": {
   "display_name": "Python 3",
   "language": "python",
   "name": "python3"
  },
  "language_info": {
   "codemirror_mode": {
    "name": "ipython",
    "version": 3
   },
   "file_extension": ".py",
   "mimetype": "text/x-python",
   "name": "python",
   "nbconvert_exporter": "python",
   "pygments_lexer": "ipython3",
   "version": "3.7.6"
  }
 },
 "nbformat": 4,
 "nbformat_minor": 4
}
